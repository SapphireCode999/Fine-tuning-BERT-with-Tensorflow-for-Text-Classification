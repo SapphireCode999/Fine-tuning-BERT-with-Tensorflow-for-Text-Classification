{
 "cells": [
  {
   "cell_type": "markdown",
   "id": "4dc2e79e",
   "metadata": {},
   "source": [
    "#  Fine-tuning BERT with Tensorflow for Text Classification."
   ]
  },
  {
   "cell_type": "markdown",
   "id": "a8324afe",
   "metadata": {},
   "source": [
    "In this notebook, we'll fine-tune BERT model with tensorflow to classify tweet text data into different classes of cyberbullying.The data was taken from kaggle from this link.\n",
    "\n",
    "https://www.kaggle.com/datasets/andrewmvd/cyberbullying-classification"
   ]
  },
  {
   "cell_type": "code",
   "execution_count": 1,
   "id": "819c3990",
   "metadata": {},
   "outputs": [],
   "source": [
    "# !pip install neattext"
   ]
  },
  {
   "cell_type": "markdown",
   "id": "a4c025e7",
   "metadata": {},
   "source": [
    "## Import libraries."
   ]
  },
  {
   "cell_type": "code",
   "execution_count": 2,
   "id": "1164092b",
   "metadata": {},
   "outputs": [
    {
     "name": "stderr",
     "output_type": "stream",
     "text": [
      "[nltk_data] Downloading package stopwords to\n",
      "[nltk_data]     C:\\Users\\Surface\\AppData\\Roaming\\nltk_data...\n",
      "[nltk_data]   Package stopwords is already up-to-date!\n",
      "Some layers from the model checkpoint at bert-base-cased were not used when initializing TFBertModel: ['mlm___cls', 'nsp___cls']\n",
      "- This IS expected if you are initializing TFBertModel from the checkpoint of a model trained on another task or with another architecture (e.g. initializing a BertForSequenceClassification model from a BertForPreTraining model).\n",
      "- This IS NOT expected if you are initializing TFBertModel from the checkpoint of a model that you expect to be exactly identical (initializing a BertForSequenceClassification model from a BertForSequenceClassification model).\n",
      "All the layers of TFBertModel were initialized from the model checkpoint at bert-base-cased.\n",
      "If your task is similar to the task the model of the checkpoint was trained on, you can already use TFBertModel for predictions without further training.\n"
     ]
    }
   ],
   "source": [
    "import spacy\n",
    "import re\n",
    "import nltk\n",
    "import string\n",
    "import sklearn\n",
    "import neattext as nt\n",
    "import neattext.functions as nfx\n",
    "import pandas as pd \n",
    "import numpy as np\n",
    "import tensorflow as tf\n",
    "import matplotlib.pyplot as plt\n",
    "import seaborn as sns\n",
    "nltk.download('stopwords')\n",
    "from nltk.corpus import stopwords\n",
    "from collections import Counter\n",
    "from tensorflow.keras import layers\n",
    "from tensorflow.keras.layers import Input, Dense\n",
    "from sklearn.model_selection import train_test_split\n",
    "from sklearn.preprocessing import LabelEncoder\n",
    "from tensorflow.keras.preprocessing.text import Tokenizer\n",
    "from tensorflow.keras.optimizers import Adam\n",
    "from sklearn.metrics import classification_report\n",
    "from tensorflow.keras.callbacks import EarlyStopping\n",
    "from tensorflow.keras.initializers import TruncatedNormal\n",
    "from tensorflow.keras.losses import CategoricalCrossentropy\n",
    "from tensorflow.keras.metrics import CategoricalAccuracy\n",
    "from tensorflow.keras.utils import to_categorical\n",
    "from tensorflow.keras.preprocessing.sequence import pad_sequences\n",
    "\n",
    "from transformers import AutoTokenizer, TFBertModel\n",
    "tokenizer = AutoTokenizer.from_pretrained('bert-base-cased')\n",
    "bert = TFBertModel.from_pretrained('bert-base-cased')"
   ]
  },
  {
   "cell_type": "markdown",
   "id": "0d186cf4",
   "metadata": {},
   "source": [
    "### Read data with pandas"
   ]
  },
  {
   "cell_type": "code",
   "execution_count": 4,
   "id": "00df9d84",
   "metadata": {},
   "outputs": [],
   "source": [
    "data = pd.read_csv('cyberbullying_tweets.csv')"
   ]
  },
  {
   "cell_type": "markdown",
   "id": "a22d4523",
   "metadata": {},
   "source": [
    "### Inspecting the data."
   ]
  },
  {
   "cell_type": "code",
   "execution_count": 5,
   "id": "9ab77887",
   "metadata": {
    "scrolled": true
   },
   "outputs": [
    {
     "data": {
      "text/html": [
       "<div>\n",
       "<style scoped>\n",
       "    .dataframe tbody tr th:only-of-type {\n",
       "        vertical-align: middle;\n",
       "    }\n",
       "\n",
       "    .dataframe tbody tr th {\n",
       "        vertical-align: top;\n",
       "    }\n",
       "\n",
       "    .dataframe thead th {\n",
       "        text-align: right;\n",
       "    }\n",
       "</style>\n",
       "<table border=\"1\" class=\"dataframe\">\n",
       "  <thead>\n",
       "    <tr style=\"text-align: right;\">\n",
       "      <th></th>\n",
       "      <th>tweet_text</th>\n",
       "      <th>cyberbullying_type</th>\n",
       "    </tr>\n",
       "  </thead>\n",
       "  <tbody>\n",
       "    <tr>\n",
       "      <th>0</th>\n",
       "      <td>In other words #katandandre, your food was cra...</td>\n",
       "      <td>not_cyberbullying</td>\n",
       "    </tr>\n",
       "    <tr>\n",
       "      <th>1</th>\n",
       "      <td>Why is #aussietv so white? #MKR #theblock #ImA...</td>\n",
       "      <td>not_cyberbullying</td>\n",
       "    </tr>\n",
       "    <tr>\n",
       "      <th>2</th>\n",
       "      <td>@XochitlSuckkks a classy whore? Or more red ve...</td>\n",
       "      <td>not_cyberbullying</td>\n",
       "    </tr>\n",
       "    <tr>\n",
       "      <th>3</th>\n",
       "      <td>@Jason_Gio meh. :P  thanks for the heads up, b...</td>\n",
       "      <td>not_cyberbullying</td>\n",
       "    </tr>\n",
       "    <tr>\n",
       "      <th>4</th>\n",
       "      <td>@RudhoeEnglish This is an ISIS account pretend...</td>\n",
       "      <td>not_cyberbullying</td>\n",
       "    </tr>\n",
       "  </tbody>\n",
       "</table>\n",
       "</div>"
      ],
      "text/plain": [
       "                                          tweet_text cyberbullying_type\n",
       "0  In other words #katandandre, your food was cra...  not_cyberbullying\n",
       "1  Why is #aussietv so white? #MKR #theblock #ImA...  not_cyberbullying\n",
       "2  @XochitlSuckkks a classy whore? Or more red ve...  not_cyberbullying\n",
       "3  @Jason_Gio meh. :P  thanks for the heads up, b...  not_cyberbullying\n",
       "4  @RudhoeEnglish This is an ISIS account pretend...  not_cyberbullying"
      ]
     },
     "execution_count": 5,
     "metadata": {},
     "output_type": "execute_result"
    }
   ],
   "source": [
    "data.head()"
   ]
  },
  {
   "cell_type": "code",
   "execution_count": 6,
   "id": "74c112af",
   "metadata": {},
   "outputs": [
    {
     "data": {
      "text/html": [
       "<div>\n",
       "<style scoped>\n",
       "    .dataframe tbody tr th:only-of-type {\n",
       "        vertical-align: middle;\n",
       "    }\n",
       "\n",
       "    .dataframe tbody tr th {\n",
       "        vertical-align: top;\n",
       "    }\n",
       "\n",
       "    .dataframe thead tr th {\n",
       "        text-align: left;\n",
       "    }\n",
       "\n",
       "    .dataframe thead tr:last-of-type th {\n",
       "        text-align: right;\n",
       "    }\n",
       "</style>\n",
       "<table border=\"1\" class=\"dataframe\">\n",
       "  <thead>\n",
       "    <tr>\n",
       "      <th></th>\n",
       "      <th colspan=\"4\" halign=\"left\">tweet_text</th>\n",
       "    </tr>\n",
       "    <tr>\n",
       "      <th></th>\n",
       "      <th>count</th>\n",
       "      <th>unique</th>\n",
       "      <th>top</th>\n",
       "      <th>freq</th>\n",
       "    </tr>\n",
       "    <tr>\n",
       "      <th>cyberbullying_type</th>\n",
       "      <th></th>\n",
       "      <th></th>\n",
       "      <th></th>\n",
       "      <th></th>\n",
       "    </tr>\n",
       "  </thead>\n",
       "  <tbody>\n",
       "    <tr>\n",
       "      <th>age</th>\n",
       "      <td>7992</td>\n",
       "      <td>7992</td>\n",
       "      <td>The girls who bullied me in middle and high sc...</td>\n",
       "      <td>1</td>\n",
       "    </tr>\n",
       "    <tr>\n",
       "      <th>ethnicity</th>\n",
       "      <td>7961</td>\n",
       "      <td>7959</td>\n",
       "      <td>Racism won't stop as long as u stil select ur ...</td>\n",
       "      <td>2</td>\n",
       "    </tr>\n",
       "    <tr>\n",
       "      <th>gender</th>\n",
       "      <td>7973</td>\n",
       "      <td>7948</td>\n",
       "      <td>No offense. @NigelBigMeech I'm not sexist but ...</td>\n",
       "      <td>2</td>\n",
       "    </tr>\n",
       "    <tr>\n",
       "      <th>not_cyberbullying</th>\n",
       "      <td>7945</td>\n",
       "      <td>7937</td>\n",
       "      <td>Our pancakes are selling like hotcakes Shaz - ...</td>\n",
       "      <td>2</td>\n",
       "    </tr>\n",
       "    <tr>\n",
       "      <th>other_cyberbullying</th>\n",
       "      <td>7823</td>\n",
       "      <td>7823</td>\n",
       "      <td>@KirinDave I love it. I'm invested in it. My f...</td>\n",
       "      <td>1</td>\n",
       "    </tr>\n",
       "    <tr>\n",
       "      <th>religion</th>\n",
       "      <td>7998</td>\n",
       "      <td>7997</td>\n",
       "      <td>A Pakistani court has sentenced 86 members of ...</td>\n",
       "      <td>2</td>\n",
       "    </tr>\n",
       "  </tbody>\n",
       "</table>\n",
       "</div>"
      ],
      "text/plain": [
       "                    tweet_text         \\\n",
       "                         count unique   \n",
       "cyberbullying_type                      \n",
       "age                       7992   7992   \n",
       "ethnicity                 7961   7959   \n",
       "gender                    7973   7948   \n",
       "not_cyberbullying         7945   7937   \n",
       "other_cyberbullying       7823   7823   \n",
       "religion                  7998   7997   \n",
       "\n",
       "                                                                             \n",
       "                                                                   top freq  \n",
       "cyberbullying_type                                                           \n",
       "age                  The girls who bullied me in middle and high sc...    1  \n",
       "ethnicity            Racism won't stop as long as u stil select ur ...    2  \n",
       "gender               No offense. @NigelBigMeech I'm not sexist but ...    2  \n",
       "not_cyberbullying    Our pancakes are selling like hotcakes Shaz - ...    2  \n",
       "other_cyberbullying  @KirinDave I love it. I'm invested in it. My f...    1  \n",
       "religion             A Pakistani court has sentenced 86 members of ...    2  "
      ]
     },
     "execution_count": 6,
     "metadata": {},
     "output_type": "execute_result"
    }
   ],
   "source": [
    "data.groupby('cyberbullying_type').describe()"
   ]
  },
  {
   "cell_type": "code",
   "execution_count": 7,
   "id": "56652e25",
   "metadata": {},
   "outputs": [
    {
     "data": {
      "text/plain": [
       "religion               7998\n",
       "age                    7992\n",
       "gender                 7973\n",
       "ethnicity              7961\n",
       "not_cyberbullying      7945\n",
       "other_cyberbullying    7823\n",
       "Name: cyberbullying_type, dtype: int64"
      ]
     },
     "execution_count": 7,
     "metadata": {},
     "output_type": "execute_result"
    }
   ],
   "source": [
    "data['cyberbullying_type'].value_counts()"
   ]
  },
  {
   "cell_type": "code",
   "execution_count": 8,
   "id": "a787d6b5",
   "metadata": {},
   "outputs": [
    {
     "data": {
      "text/plain": [
       "6"
      ]
     },
     "execution_count": 8,
     "metadata": {},
     "output_type": "execute_result"
    }
   ],
   "source": [
    "data['cyberbullying_type'].nunique()"
   ]
  },
  {
   "cell_type": "code",
   "execution_count": 9,
   "id": "0d27236e",
   "metadata": {},
   "outputs": [
    {
     "data": {
      "text/plain": [
       "47692"
      ]
     },
     "execution_count": 9,
     "metadata": {},
     "output_type": "execute_result"
    }
   ],
   "source": [
    "data['cyberbullying_type'].count()"
   ]
  },
  {
   "cell_type": "code",
   "execution_count": 10,
   "id": "57aa475c",
   "metadata": {},
   "outputs": [
    {
     "name": "stdout",
     "output_type": "stream",
     "text": [
      "<class 'pandas.core.frame.DataFrame'>\n",
      "RangeIndex: 47692 entries, 0 to 47691\n",
      "Data columns (total 2 columns):\n",
      " #   Column              Non-Null Count  Dtype \n",
      "---  ------              --------------  ----- \n",
      " 0   tweet_text          47692 non-null  object\n",
      " 1   cyberbullying_type  47692 non-null  object\n",
      "dtypes: object(2)\n",
      "memory usage: 745.3+ KB\n"
     ]
    }
   ],
   "source": [
    "data.info()"
   ]
  },
  {
   "cell_type": "code",
   "execution_count": 11,
   "id": "68ae8c41",
   "metadata": {},
   "outputs": [
    {
     "data": {
      "text/plain": [
       "(47692, 2)"
      ]
     },
     "execution_count": 11,
     "metadata": {},
     "output_type": "execute_result"
    }
   ],
   "source": [
    "data.shape"
   ]
  },
  {
   "cell_type": "markdown",
   "id": "c47abef6",
   "metadata": {},
   "source": [
    "### The cyberbullying classes are aggregated together by type, so we need to shuffle them."
   ]
  },
  {
   "cell_type": "code",
   "execution_count": 12,
   "id": "3af93188",
   "metadata": {
    "scrolled": true
   },
   "outputs": [
    {
     "data": {
      "text/html": [
       "<div>\n",
       "<style scoped>\n",
       "    .dataframe tbody tr th:only-of-type {\n",
       "        vertical-align: middle;\n",
       "    }\n",
       "\n",
       "    .dataframe tbody tr th {\n",
       "        vertical-align: top;\n",
       "    }\n",
       "\n",
       "    .dataframe thead th {\n",
       "        text-align: right;\n",
       "    }\n",
       "</style>\n",
       "<table border=\"1\" class=\"dataframe\">\n",
       "  <thead>\n",
       "    <tr style=\"text-align: right;\">\n",
       "      <th></th>\n",
       "      <th>tweet_text</th>\n",
       "      <th>cyberbullying_type</th>\n",
       "    </tr>\n",
       "  </thead>\n",
       "  <tbody>\n",
       "    <tr>\n",
       "      <th>0</th>\n",
       "      <td>In other words #katandandre, your food was cra...</td>\n",
       "      <td>not_cyberbullying</td>\n",
       "    </tr>\n",
       "    <tr>\n",
       "      <th>1</th>\n",
       "      <td>Why is #aussietv so white? #MKR #theblock #ImA...</td>\n",
       "      <td>not_cyberbullying</td>\n",
       "    </tr>\n",
       "    <tr>\n",
       "      <th>2</th>\n",
       "      <td>@XochitlSuckkks a classy whore? Or more red ve...</td>\n",
       "      <td>not_cyberbullying</td>\n",
       "    </tr>\n",
       "    <tr>\n",
       "      <th>3</th>\n",
       "      <td>@Jason_Gio meh. :P  thanks for the heads up, b...</td>\n",
       "      <td>not_cyberbullying</td>\n",
       "    </tr>\n",
       "    <tr>\n",
       "      <th>4</th>\n",
       "      <td>@RudhoeEnglish This is an ISIS account pretend...</td>\n",
       "      <td>not_cyberbullying</td>\n",
       "    </tr>\n",
       "  </tbody>\n",
       "</table>\n",
       "</div>"
      ],
      "text/plain": [
       "                                          tweet_text cyberbullying_type\n",
       "0  In other words #katandandre, your food was cra...  not_cyberbullying\n",
       "1  Why is #aussietv so white? #MKR #theblock #ImA...  not_cyberbullying\n",
       "2  @XochitlSuckkks a classy whore? Or more red ve...  not_cyberbullying\n",
       "3  @Jason_Gio meh. :P  thanks for the heads up, b...  not_cyberbullying\n",
       "4  @RudhoeEnglish This is an ISIS account pretend...  not_cyberbullying"
      ]
     },
     "execution_count": 12,
     "metadata": {},
     "output_type": "execute_result"
    }
   ],
   "source": [
    "data.head()"
   ]
  },
  {
   "cell_type": "code",
   "execution_count": 13,
   "id": "60cacada",
   "metadata": {},
   "outputs": [
    {
     "data": {
      "text/html": [
       "<div>\n",
       "<style scoped>\n",
       "    .dataframe tbody tr th:only-of-type {\n",
       "        vertical-align: middle;\n",
       "    }\n",
       "\n",
       "    .dataframe tbody tr th {\n",
       "        vertical-align: top;\n",
       "    }\n",
       "\n",
       "    .dataframe thead th {\n",
       "        text-align: right;\n",
       "    }\n",
       "</style>\n",
       "<table border=\"1\" class=\"dataframe\">\n",
       "  <thead>\n",
       "    <tr style=\"text-align: right;\">\n",
       "      <th></th>\n",
       "      <th>tweet_text</th>\n",
       "      <th>cyberbullying_type</th>\n",
       "    </tr>\n",
       "  </thead>\n",
       "  <tbody>\n",
       "    <tr>\n",
       "      <th>47687</th>\n",
       "      <td>Black ppl aren't expected to do anything, depe...</td>\n",
       "      <td>ethnicity</td>\n",
       "    </tr>\n",
       "    <tr>\n",
       "      <th>47688</th>\n",
       "      <td>Turner did not withhold his disappointment. Tu...</td>\n",
       "      <td>ethnicity</td>\n",
       "    </tr>\n",
       "    <tr>\n",
       "      <th>47689</th>\n",
       "      <td>I swear to God. This dumb nigger bitch. I have...</td>\n",
       "      <td>ethnicity</td>\n",
       "    </tr>\n",
       "    <tr>\n",
       "      <th>47690</th>\n",
       "      <td>Yea fuck you RT @therealexel: IF YOURE A NIGGE...</td>\n",
       "      <td>ethnicity</td>\n",
       "    </tr>\n",
       "    <tr>\n",
       "      <th>47691</th>\n",
       "      <td>Bro. U gotta chill RT @CHILLShrammy: Dog FUCK ...</td>\n",
       "      <td>ethnicity</td>\n",
       "    </tr>\n",
       "  </tbody>\n",
       "</table>\n",
       "</div>"
      ],
      "text/plain": [
       "                                              tweet_text cyberbullying_type\n",
       "47687  Black ppl aren't expected to do anything, depe...          ethnicity\n",
       "47688  Turner did not withhold his disappointment. Tu...          ethnicity\n",
       "47689  I swear to God. This dumb nigger bitch. I have...          ethnicity\n",
       "47690  Yea fuck you RT @therealexel: IF YOURE A NIGGE...          ethnicity\n",
       "47691  Bro. U gotta chill RT @CHILLShrammy: Dog FUCK ...          ethnicity"
      ]
     },
     "execution_count": 13,
     "metadata": {},
     "output_type": "execute_result"
    }
   ],
   "source": [
    "data.tail()"
   ]
  },
  {
   "cell_type": "code",
   "execution_count": 14,
   "id": "0071d5f1",
   "metadata": {},
   "outputs": [
    {
     "data": {
      "text/plain": [
       "tweet_text            0\n",
       "cyberbullying_type    0\n",
       "dtype: int64"
      ]
     },
     "execution_count": 14,
     "metadata": {},
     "output_type": "execute_result"
    }
   ],
   "source": [
    "data.isnull().sum()"
   ]
  },
  {
   "cell_type": "code",
   "execution_count": 15,
   "id": "b035dfc9",
   "metadata": {},
   "outputs": [],
   "source": [
    "data.drop_duplicates(inplace=True)"
   ]
  },
  {
   "cell_type": "code",
   "execution_count": 16,
   "id": "b57d4314",
   "metadata": {
    "scrolled": true
   },
   "outputs": [
    {
     "data": {
      "text/plain": [
       "(47656, 2)"
      ]
     },
     "execution_count": 16,
     "metadata": {},
     "output_type": "execute_result"
    }
   ],
   "source": [
    "data.shape"
   ]
  },
  {
   "cell_type": "markdown",
   "id": "52eaa9dd",
   "metadata": {},
   "source": [
    "### Shuffle data and split it into training and test sets."
   ]
  },
  {
   "cell_type": "code",
   "execution_count": 17,
   "id": "9cce1549",
   "metadata": {},
   "outputs": [],
   "source": [
    "data_train, data_test = train_test_split(data, test_size = 0.3, random_state = 42, shuffle = True, stratify = data.cyberbullying_type)"
   ]
  },
  {
   "cell_type": "markdown",
   "id": "14a12140",
   "metadata": {},
   "source": [
    "## Clean data using neattext library."
   ]
  },
  {
   "cell_type": "markdown",
   "id": "c510686b",
   "metadata": {},
   "source": [
    "### Remove hashtags, multiple spaces and user-handles."
   ]
  },
  {
   "cell_type": "code",
   "execution_count": 18,
   "id": "c0219a3b",
   "metadata": {
    "scrolled": true
   },
   "outputs": [
    {
     "name": "stderr",
     "output_type": "stream",
     "text": [
      "<ipython-input-18-e07630e522d5>:1: SettingWithCopyWarning: \n",
      "A value is trying to be set on a copy of a slice from a DataFrame.\n",
      "Try using .loc[row_indexer,col_indexer] = value instead\n",
      "\n",
      "See the caveats in the documentation: https://pandas.pydata.org/pandas-docs/stable/user_guide/indexing.html#returning-a-view-versus-a-copy\n",
      "  data_train['tweet_text'] = data_train['tweet_text'].apply(nfx.remove_hashtags)\n"
     ]
    },
    {
     "data": {
      "text/html": [
       "<div>\n",
       "<style scoped>\n",
       "    .dataframe tbody tr th:only-of-type {\n",
       "        vertical-align: middle;\n",
       "    }\n",
       "\n",
       "    .dataframe tbody tr th {\n",
       "        vertical-align: top;\n",
       "    }\n",
       "\n",
       "    .dataframe thead th {\n",
       "        text-align: right;\n",
       "    }\n",
       "</style>\n",
       "<table border=\"1\" class=\"dataframe\">\n",
       "  <thead>\n",
       "    <tr style=\"text-align: right;\">\n",
       "      <th></th>\n",
       "      <th>tweet_text</th>\n",
       "      <th>cyberbullying_type</th>\n",
       "    </tr>\n",
       "  </thead>\n",
       "  <tbody>\n",
       "    <tr>\n",
       "      <th>37246</th>\n",
       "      <td>when cis ppl spread hate &amp; misinfo about trans...</td>\n",
       "      <td>age</td>\n",
       "    </tr>\n",
       "    <tr>\n",
       "      <th>12581</th>\n",
       "      <td>@Thats_So_Lauren they like making over the top...</td>\n",
       "      <td>gender</td>\n",
       "    </tr>\n",
       "    <tr>\n",
       "      <th>29310</th>\n",
       "      <td>So, just to save you all some time, BSD is my ...</td>\n",
       "      <td>other_cyberbullying</td>\n",
       "    </tr>\n",
       "    <tr>\n",
       "      <th>44701</th>\n",
       "      <td>Fuck I fucking hate dumb Hawaiians with nigger...</td>\n",
       "      <td>ethnicity</td>\n",
       "    </tr>\n",
       "    <tr>\n",
       "      <th>30210</th>\n",
       "      <td>RT @grbradbury: @davidlipson @Nick_Xenophon ca...</td>\n",
       "      <td>other_cyberbullying</td>\n",
       "    </tr>\n",
       "  </tbody>\n",
       "</table>\n",
       "</div>"
      ],
      "text/plain": [
       "                                              tweet_text   cyberbullying_type\n",
       "37246  when cis ppl spread hate & misinfo about trans...                  age\n",
       "12581  @Thats_So_Lauren they like making over the top...               gender\n",
       "29310  So, just to save you all some time, BSD is my ...  other_cyberbullying\n",
       "44701  Fuck I fucking hate dumb Hawaiians with nigger...            ethnicity\n",
       "30210  RT @grbradbury: @davidlipson @Nick_Xenophon ca...  other_cyberbullying"
      ]
     },
     "execution_count": 18,
     "metadata": {},
     "output_type": "execute_result"
    }
   ],
   "source": [
    "data_train['tweet_text'] = data_train['tweet_text'].apply(nfx.remove_hashtags)\n",
    "data_train.head()"
   ]
  },
  {
   "cell_type": "code",
   "execution_count": 19,
   "id": "bc4e367b",
   "metadata": {},
   "outputs": [
    {
     "name": "stderr",
     "output_type": "stream",
     "text": [
      "<ipython-input-19-cf51e48fbfa0>:3: SettingWithCopyWarning: \n",
      "A value is trying to be set on a copy of a slice from a DataFrame.\n",
      "Try using .loc[row_indexer,col_indexer] = value instead\n",
      "\n",
      "See the caveats in the documentation: https://pandas.pydata.org/pandas-docs/stable/user_guide/indexing.html#returning-a-view-versus-a-copy\n",
      "  data_train['tweet_text'] = data_train['tweet_text'].apply(nfx.remove_userhandles)\n"
     ]
    }
   ],
   "source": [
    "# data_train['tweet_text'] = data_train['tweet_text'].apply(lambda x: nfx.remove_custom_pattern(x, term_pattern=r'&#\\$ '))\n",
    "\n",
    "data_train['tweet_text'] = data_train['tweet_text'].apply(nfx.remove_userhandles)"
   ]
  },
  {
   "cell_type": "code",
   "execution_count": 20,
   "id": "d5dd61c9",
   "metadata": {
    "scrolled": true
   },
   "outputs": [
    {
     "data": {
      "text/html": [
       "<div>\n",
       "<style scoped>\n",
       "    .dataframe tbody tr th:only-of-type {\n",
       "        vertical-align: middle;\n",
       "    }\n",
       "\n",
       "    .dataframe tbody tr th {\n",
       "        vertical-align: top;\n",
       "    }\n",
       "\n",
       "    .dataframe thead th {\n",
       "        text-align: right;\n",
       "    }\n",
       "</style>\n",
       "<table border=\"1\" class=\"dataframe\">\n",
       "  <thead>\n",
       "    <tr style=\"text-align: right;\">\n",
       "      <th></th>\n",
       "      <th>tweet_text</th>\n",
       "      <th>cyberbullying_type</th>\n",
       "    </tr>\n",
       "  </thead>\n",
       "  <tbody>\n",
       "    <tr>\n",
       "      <th>44713</th>\n",
       "      <td>Ur first one that is so apt!</td>\n",
       "      <td>ethnicity</td>\n",
       "    </tr>\n",
       "    <tr>\n",
       "      <th>31973</th>\n",
       "      <td>Art was something I turned to when I was raped...</td>\n",
       "      <td>age</td>\n",
       "    </tr>\n",
       "    <tr>\n",
       "      <th>46332</th>\n",
       "      <td>I disagree with your reading of it. Why would ...</td>\n",
       "      <td>ethnicity</td>\n",
       "    </tr>\n",
       "    <tr>\n",
       "      <th>14085</th>\n",
       "      <td>she was hating on jlaw for things she did when...</td>\n",
       "      <td>gender</td>\n",
       "    </tr>\n",
       "    <tr>\n",
       "      <th>43904</th>\n",
       "      <td>first impression: very blunt and straightforwa...</td>\n",
       "      <td>ethnicity</td>\n",
       "    </tr>\n",
       "  </tbody>\n",
       "</table>\n",
       "</div>"
      ],
      "text/plain": [
       "                                              tweet_text cyberbullying_type\n",
       "44713                       Ur first one that is so apt!          ethnicity\n",
       "31973  Art was something I turned to when I was raped...                age\n",
       "46332  I disagree with your reading of it. Why would ...          ethnicity\n",
       "14085  she was hating on jlaw for things she did when...             gender\n",
       "43904  first impression: very blunt and straightforwa...          ethnicity"
      ]
     },
     "execution_count": 20,
     "metadata": {},
     "output_type": "execute_result"
    }
   ],
   "source": [
    "data_train.tail()"
   ]
  },
  {
   "cell_type": "code",
   "execution_count": 22,
   "id": "0d1b2fe2",
   "metadata": {},
   "outputs": [
    {
     "data": {
      "text/html": [
       "<div>\n",
       "<style scoped>\n",
       "    .dataframe tbody tr th:only-of-type {\n",
       "        vertical-align: middle;\n",
       "    }\n",
       "\n",
       "    .dataframe tbody tr th {\n",
       "        vertical-align: top;\n",
       "    }\n",
       "\n",
       "    .dataframe thead th {\n",
       "        text-align: right;\n",
       "    }\n",
       "</style>\n",
       "<table border=\"1\" class=\"dataframe\">\n",
       "  <thead>\n",
       "    <tr style=\"text-align: right;\">\n",
       "      <th></th>\n",
       "      <th>tweet_text</th>\n",
       "      <th>cyberbullying_type</th>\n",
       "    </tr>\n",
       "  </thead>\n",
       "  <tbody>\n",
       "    <tr>\n",
       "      <th>37246</th>\n",
       "      <td>when cis ppl spread hate &amp; misinfo about trans...</td>\n",
       "      <td>age</td>\n",
       "    </tr>\n",
       "    <tr>\n",
       "      <th>12581</th>\n",
       "      <td>they like making over the top gay jokes invol...</td>\n",
       "      <td>gender</td>\n",
       "    </tr>\n",
       "    <tr>\n",
       "      <th>29310</th>\n",
       "      <td>So, just to save you all some time, BSD is my ...</td>\n",
       "      <td>other_cyberbullying</td>\n",
       "    </tr>\n",
       "    <tr>\n",
       "      <th>44701</th>\n",
       "      <td>Fuck I fucking hate dumb Hawaiians with nigger...</td>\n",
       "      <td>ethnicity</td>\n",
       "    </tr>\n",
       "    <tr>\n",
       "      <th>30210</th>\n",
       "      <td>RT can you please call him an evil capitalist ...</td>\n",
       "      <td>other_cyberbullying</td>\n",
       "    </tr>\n",
       "  </tbody>\n",
       "</table>\n",
       "</div>"
      ],
      "text/plain": [
       "                                              tweet_text   cyberbullying_type\n",
       "37246  when cis ppl spread hate & misinfo about trans...                  age\n",
       "12581   they like making over the top gay jokes invol...               gender\n",
       "29310  So, just to save you all some time, BSD is my ...  other_cyberbullying\n",
       "44701  Fuck I fucking hate dumb Hawaiians with nigger...            ethnicity\n",
       "30210  RT can you please call him an evil capitalist ...  other_cyberbullying"
      ]
     },
     "execution_count": 22,
     "metadata": {},
     "output_type": "execute_result"
    }
   ],
   "source": [
    "data_train['tweet_text'] = data_train['tweet_text'].apply(nfx.remove_multiple_spaces)\n",
    "data_train.head()"
   ]
  },
  {
   "cell_type": "markdown",
   "id": "42265710",
   "metadata": {},
   "source": [
    "### We'll take only a section of our training data because we are running on CPU."
   ]
  },
  {
   "cell_type": "code",
   "execution_count": 21,
   "id": "1198bd89",
   "metadata": {},
   "outputs": [
    {
     "data": {
      "text/plain": [
       "(12000, 2)"
      ]
     },
     "execution_count": 21,
     "metadata": {},
     "output_type": "execute_result"
    }
   ],
   "source": [
    "data_train  = data_train[:12000]\n",
    "data_train.shape"
   ]
  },
  {
   "cell_type": "code",
   "execution_count": 23,
   "id": "8f521ff7",
   "metadata": {},
   "outputs": [
    {
     "data": {
      "text/html": [
       "<div>\n",
       "<style scoped>\n",
       "    .dataframe tbody tr th:only-of-type {\n",
       "        vertical-align: middle;\n",
       "    }\n",
       "\n",
       "    .dataframe tbody tr th {\n",
       "        vertical-align: top;\n",
       "    }\n",
       "\n",
       "    .dataframe thead th {\n",
       "        text-align: right;\n",
       "    }\n",
       "</style>\n",
       "<table border=\"1\" class=\"dataframe\">\n",
       "  <thead>\n",
       "    <tr style=\"text-align: right;\">\n",
       "      <th></th>\n",
       "      <th>tweet_text</th>\n",
       "      <th>cyberbullying_type</th>\n",
       "    </tr>\n",
       "  </thead>\n",
       "  <tbody>\n",
       "    <tr>\n",
       "      <th>37779</th>\n",
       "      <td>OMG the peeps are such bullies to Jamie hiding...</td>\n",
       "      <td>age</td>\n",
       "    </tr>\n",
       "    <tr>\n",
       "      <th>18801</th>\n",
       "      <td>Hmm the whole world can see it .Terrorism is a...</td>\n",
       "      <td>religion</td>\n",
       "    </tr>\n",
       "    <tr>\n",
       "      <th>4835</th>\n",
       "      <td>Drasko and Steve need to hate-fuck each other ...</td>\n",
       "      <td>not_cyberbullying</td>\n",
       "    </tr>\n",
       "    <tr>\n",
       "      <th>35922</th>\n",
       "      <td>This woman on Love It it List It talks just li...</td>\n",
       "      <td>age</td>\n",
       "    </tr>\n",
       "    <tr>\n",
       "      <th>27149</th>\n",
       "      <td>The author also fails to understand that nearl...</td>\n",
       "      <td>other_cyberbullying</td>\n",
       "    </tr>\n",
       "  </tbody>\n",
       "</table>\n",
       "</div>"
      ],
      "text/plain": [
       "                                              tweet_text   cyberbullying_type\n",
       "37779  OMG the peeps are such bullies to Jamie hiding...                  age\n",
       "18801  Hmm the whole world can see it .Terrorism is a...             religion\n",
       "4835   Drasko and Steve need to hate-fuck each other ...    not_cyberbullying\n",
       "35922  This woman on Love It it List It talks just li...                  age\n",
       "27149  The author also fails to understand that nearl...  other_cyberbullying"
      ]
     },
     "execution_count": 23,
     "metadata": {},
     "output_type": "execute_result"
    }
   ],
   "source": [
    "data_train.tail()"
   ]
  },
  {
   "cell_type": "code",
   "execution_count": 24,
   "id": "c67d7810",
   "metadata": {},
   "outputs": [
    {
     "data": {
      "text/html": [
       "<div>\n",
       "<style scoped>\n",
       "    .dataframe tbody tr th:only-of-type {\n",
       "        vertical-align: middle;\n",
       "    }\n",
       "\n",
       "    .dataframe tbody tr th {\n",
       "        vertical-align: top;\n",
       "    }\n",
       "\n",
       "    .dataframe thead th {\n",
       "        text-align: right;\n",
       "    }\n",
       "</style>\n",
       "<table border=\"1\" class=\"dataframe\">\n",
       "  <thead>\n",
       "    <tr style=\"text-align: right;\">\n",
       "      <th></th>\n",
       "      <th>tweet_text</th>\n",
       "      <th>cyberbullying_type</th>\n",
       "    </tr>\n",
       "  </thead>\n",
       "  <tbody>\n",
       "    <tr>\n",
       "      <th>37246</th>\n",
       "      <td>cis ppl spread hate &amp; misinfo trans ppl though...</td>\n",
       "      <td>age</td>\n",
       "    </tr>\n",
       "    <tr>\n",
       "      <th>12581</th>\n",
       "      <td>like making gay jokes involving rape...not fun...</td>\n",
       "      <td>gender</td>\n",
       "    </tr>\n",
       "    <tr>\n",
       "      <th>29310</th>\n",
       "      <td>So, save time, BSD family. negative response G...</td>\n",
       "      <td>other_cyberbullying</td>\n",
       "    </tr>\n",
       "    <tr>\n",
       "      <th>44701</th>\n",
       "      <td>Fuck fucking hate dumb Hawaiians nigger lips!</td>\n",
       "      <td>ethnicity</td>\n",
       "    </tr>\n",
       "    <tr>\n",
       "      <th>30210</th>\n",
       "      <td>RT evil capitalist sellout cunt https://t.co/N...</td>\n",
       "      <td>other_cyberbullying</td>\n",
       "    </tr>\n",
       "  </tbody>\n",
       "</table>\n",
       "</div>"
      ],
      "text/plain": [
       "                                              tweet_text   cyberbullying_type\n",
       "37246  cis ppl spread hate & misinfo trans ppl though...                  age\n",
       "12581  like making gay jokes involving rape...not fun...               gender\n",
       "29310  So, save time, BSD family. negative response G...  other_cyberbullying\n",
       "44701      Fuck fucking hate dumb Hawaiians nigger lips!            ethnicity\n",
       "30210  RT evil capitalist sellout cunt https://t.co/N...  other_cyberbullying"
      ]
     },
     "execution_count": 24,
     "metadata": {},
     "output_type": "execute_result"
    }
   ],
   "source": [
    "data_train['tweet_text'] = data_train['tweet_text'].apply(nfx.remove_stopwords)\n",
    "data_train.head()"
   ]
  },
  {
   "cell_type": "code",
   "execution_count": 26,
   "id": "c56e0251",
   "metadata": {},
   "outputs": [
    {
     "data": {
      "text/html": [
       "<div>\n",
       "<style scoped>\n",
       "    .dataframe tbody tr th:only-of-type {\n",
       "        vertical-align: middle;\n",
       "    }\n",
       "\n",
       "    .dataframe tbody tr th {\n",
       "        vertical-align: top;\n",
       "    }\n",
       "\n",
       "    .dataframe thead th {\n",
       "        text-align: right;\n",
       "    }\n",
       "</style>\n",
       "<table border=\"1\" class=\"dataframe\">\n",
       "  <thead>\n",
       "    <tr style=\"text-align: right;\">\n",
       "      <th></th>\n",
       "      <th>tweet_text</th>\n",
       "      <th>cyberbullying_type</th>\n",
       "    </tr>\n",
       "  </thead>\n",
       "  <tbody>\n",
       "    <tr>\n",
       "      <th>37246</th>\n",
       "      <td>cis ppl spread hate &amp; misinfo trans ppl though...</td>\n",
       "      <td>age</td>\n",
       "    </tr>\n",
       "    <tr>\n",
       "      <th>12581</th>\n",
       "      <td>like making gay jokes involving rape...not fun...</td>\n",
       "      <td>gender</td>\n",
       "    </tr>\n",
       "    <tr>\n",
       "      <th>29310</th>\n",
       "      <td>So, save time, BSD family. negative response G...</td>\n",
       "      <td>other_cyberbullying</td>\n",
       "    </tr>\n",
       "    <tr>\n",
       "      <th>44701</th>\n",
       "      <td>Fuck fucking hate dumb Hawaiians nigger lips!</td>\n",
       "      <td>ethnicity</td>\n",
       "    </tr>\n",
       "    <tr>\n",
       "      <th>30210</th>\n",
       "      <td>RT evil capitalist sellout cunt</td>\n",
       "      <td>other_cyberbullying</td>\n",
       "    </tr>\n",
       "  </tbody>\n",
       "</table>\n",
       "</div>"
      ],
      "text/plain": [
       "                                              tweet_text   cyberbullying_type\n",
       "37246  cis ppl spread hate & misinfo trans ppl though...                  age\n",
       "12581  like making gay jokes involving rape...not fun...               gender\n",
       "29310  So, save time, BSD family. negative response G...  other_cyberbullying\n",
       "44701      Fuck fucking hate dumb Hawaiians nigger lips!            ethnicity\n",
       "30210                   RT evil capitalist sellout cunt   other_cyberbullying"
      ]
     },
     "execution_count": 26,
     "metadata": {},
     "output_type": "execute_result"
    }
   ],
   "source": [
    "data_train['tweet_text'] = data_train['tweet_text'].apply(nfx.remove_urls)\n",
    "data_train.head()"
   ]
  },
  {
   "cell_type": "markdown",
   "id": "c363c6a6",
   "metadata": {},
   "source": [
    "### Check the difference classes in our target variable for train and test sets."
   ]
  },
  {
   "cell_type": "code",
   "execution_count": 29,
   "id": "a9660a5e",
   "metadata": {},
   "outputs": [
    {
     "data": {
      "text/plain": [
       "array(['age', 'gender', 'other_cyberbullying', 'ethnicity',\n",
       "       'not_cyberbullying', 'religion'], dtype=object)"
      ]
     },
     "execution_count": 29,
     "metadata": {},
     "output_type": "execute_result"
    }
   ],
   "source": [
    "data_train['cyberbullying_type'].unique()"
   ]
  },
  {
   "cell_type": "code",
   "execution_count": 30,
   "id": "1f5593be",
   "metadata": {
    "scrolled": true
   },
   "outputs": [
    {
     "data": {
      "text/plain": [
       "array(['age', 'other_cyberbullying', 'religion', 'gender', 'ethnicity',\n",
       "       'not_cyberbullying'], dtype=object)"
      ]
     },
     "execution_count": 30,
     "metadata": {},
     "output_type": "execute_result"
    }
   ],
   "source": [
    "data_test['cyberbullying_type'].unique()"
   ]
  },
  {
   "cell_type": "code",
   "execution_count": 31,
   "id": "ea4ae895",
   "metadata": {},
   "outputs": [
    {
     "data": {
      "text/plain": [
       "(500, 2)"
      ]
     },
     "execution_count": 31,
     "metadata": {},
     "output_type": "execute_result"
    }
   ],
   "source": [
    "# We'll take only a portion of the test set also.\n",
    "\n",
    "data_test = data_test[:500]\n",
    "data_test.shape"
   ]
  },
  {
   "cell_type": "markdown",
   "id": "d653eff8",
   "metadata": {},
   "source": [
    "### Encoding the target variable with scikit-learn label encoder. We do this for both train and test sets separately to avoid data leakage. "
   ]
  },
  {
   "cell_type": "code",
   "execution_count": 32,
   "id": "a18ce522",
   "metadata": {},
   "outputs": [],
   "source": [
    "label_enc = LabelEncoder() \n"
   ]
  },
  {
   "cell_type": "code",
   "execution_count": 33,
   "id": "32706fe9",
   "metadata": {},
   "outputs": [
    {
     "data": {
      "text/html": [
       "<div>\n",
       "<style scoped>\n",
       "    .dataframe tbody tr th:only-of-type {\n",
       "        vertical-align: middle;\n",
       "    }\n",
       "\n",
       "    .dataframe tbody tr th {\n",
       "        vertical-align: top;\n",
       "    }\n",
       "\n",
       "    .dataframe thead th {\n",
       "        text-align: right;\n",
       "    }\n",
       "</style>\n",
       "<table border=\"1\" class=\"dataframe\">\n",
       "  <thead>\n",
       "    <tr style=\"text-align: right;\">\n",
       "      <th></th>\n",
       "      <th>tweet_text</th>\n",
       "      <th>cyberbullying_type</th>\n",
       "    </tr>\n",
       "  </thead>\n",
       "  <tbody>\n",
       "    <tr>\n",
       "      <th>37246</th>\n",
       "      <td>cis ppl spread hate &amp; misinfo trans ppl though...</td>\n",
       "      <td>0</td>\n",
       "    </tr>\n",
       "    <tr>\n",
       "      <th>12581</th>\n",
       "      <td>like making gay jokes involving rape...not fun...</td>\n",
       "      <td>2</td>\n",
       "    </tr>\n",
       "    <tr>\n",
       "      <th>29310</th>\n",
       "      <td>So, save time, BSD family. negative response G...</td>\n",
       "      <td>4</td>\n",
       "    </tr>\n",
       "    <tr>\n",
       "      <th>44701</th>\n",
       "      <td>Fuck fucking hate dumb Hawaiians nigger lips!</td>\n",
       "      <td>1</td>\n",
       "    </tr>\n",
       "    <tr>\n",
       "      <th>30210</th>\n",
       "      <td>RT evil capitalist sellout cunt</td>\n",
       "      <td>4</td>\n",
       "    </tr>\n",
       "  </tbody>\n",
       "</table>\n",
       "</div>"
      ],
      "text/plain": [
       "                                              tweet_text  cyberbullying_type\n",
       "37246  cis ppl spread hate & misinfo trans ppl though...                   0\n",
       "12581  like making gay jokes involving rape...not fun...                   2\n",
       "29310  So, save time, BSD family. negative response G...                   4\n",
       "44701      Fuck fucking hate dumb Hawaiians nigger lips!                   1\n",
       "30210                   RT evil capitalist sellout cunt                    4"
      ]
     },
     "execution_count": 33,
     "metadata": {},
     "output_type": "execute_result"
    }
   ],
   "source": [
    "data_train['cyberbullying_type'] = label_enc.fit_transform(data_train['cyberbullying_type'])\n",
    "data_train.head()"
   ]
  },
  {
   "cell_type": "code",
   "execution_count": 34,
   "id": "800e6751",
   "metadata": {},
   "outputs": [],
   "source": [
    "data_test['cyberbullying_type'] = label_enc.transform(data_test['cyberbullying_type'])\n"
   ]
  },
  {
   "cell_type": "code",
   "execution_count": 35,
   "id": "5301e22d",
   "metadata": {},
   "outputs": [
    {
     "data": {
      "text/plain": [
       "array([0, 4, 5, 2, 1, 3])"
      ]
     },
     "execution_count": 35,
     "metadata": {},
     "output_type": "execute_result"
    }
   ],
   "source": [
    "data_test['cyberbullying_type'].unique()"
   ]
  },
  {
   "cell_type": "code",
   "execution_count": 36,
   "id": "7195a030",
   "metadata": {
    "scrolled": true
   },
   "outputs": [
    {
     "data": {
      "text/plain": [
       "tweet_text            object\n",
       "cyberbullying_type     int32\n",
       "dtype: object"
      ]
     },
     "execution_count": 36,
     "metadata": {},
     "output_type": "execute_result"
    }
   ],
   "source": [
    "data_train.dtypes"
   ]
  },
  {
   "cell_type": "code",
   "execution_count": 37,
   "id": "c0871325",
   "metadata": {},
   "outputs": [
    {
     "data": {
      "text/plain": [
       "array([0, 2, 4, 1, 3, 5])"
      ]
     },
     "execution_count": 37,
     "metadata": {},
     "output_type": "execute_result"
    }
   ],
   "source": [
    "data_train['cyberbullying_type'].unique()"
   ]
  },
  {
   "cell_type": "code",
   "execution_count": 38,
   "id": "9de74900",
   "metadata": {},
   "outputs": [
    {
     "data": {
      "text/plain": [
       "1    2070\n",
       "3    2021\n",
       "5    2015\n",
       "2    1996\n",
       "0    1953\n",
       "4    1945\n",
       "Name: cyberbullying_type, dtype: int64"
      ]
     },
     "execution_count": 38,
     "metadata": {},
     "output_type": "execute_result"
    }
   ],
   "source": [
    "data_train['cyberbullying_type'].value_counts()"
   ]
  },
  {
   "cell_type": "markdown",
   "id": "189b5e1d",
   "metadata": {},
   "source": [
    "#### Label encoder encodes data by alphabetical order. "
   ]
  },
  {
   "cell_type": "code",
   "execution_count": 39,
   "id": "52a0ce03",
   "metadata": {},
   "outputs": [],
   "source": [
    "# data_train['cyberbullying_type'].value_counts()\n",
    "\n",
    "\n",
    "# '''\n",
    "# Cyberbullying labels are\n",
    "\n",
    "# 0 - age\n",
    "# 1 - ethnicity\n",
    "# 2 - gender\n",
    "# 3 - not_cyberbullying\n",
    "# 4 - other_cyberbullying\n",
    "# 5 - religion\n",
    "# '''"
   ]
  },
  {
   "cell_type": "markdown",
   "id": "9fe79c73",
   "metadata": {},
   "source": [
    "### Tokenize train input text with bert's Autotokenizer that we imported earlier."
   ]
  },
  {
   "cell_type": "code",
   "execution_count": 40,
   "id": "66fbca0c",
   "metadata": {},
   "outputs": [],
   "source": [
    "x_train = tokenizer(\n",
    "#     text = x_train.tolist(),\n",
    "    text = data_train['tweet_text'].tolist(),\n",
    "    add_special_tokens = True,\n",
    "    max_length = 100,\n",
    "    truncation = True,\n",
    "    padding = True,\n",
    "    return_tensors = 'tf',\n",
    "    return_token_type_ids = False,\n",
    "    return_attention_mask = True,\n",
    "    verbose = True\n",
    ")"
   ]
  },
  {
   "cell_type": "code",
   "execution_count": 41,
   "id": "67e31f8f",
   "metadata": {},
   "outputs": [
    {
     "data": {
      "text/plain": [
       "<tf.Tensor: shape=(12000, 100), dtype=int32, numpy=\n",
       "array([[  101,   172,  1548, ...,     0,     0,     0],\n",
       "       [  101,  1176,  1543, ...,     0,     0,     0],\n",
       "       [  101,  1573,   117, ...,     0,     0,     0],\n",
       "       ...,\n",
       "       [  101,  1987, 25611, ...,     0,     0,     0],\n",
       "       [  101,  1590,  2185, ...,     0,     0,     0],\n",
       "       [  101,  2351, 12169, ...,     0,     0,     0]])>"
      ]
     },
     "execution_count": 41,
     "metadata": {},
     "output_type": "execute_result"
    }
   ],
   "source": [
    "x_train['input_ids']"
   ]
  },
  {
   "cell_type": "markdown",
   "id": "cd6cdd1f",
   "metadata": {},
   "source": [
    "### Building the model and fine-tuning the model.\n",
    "\n",
    "The first value returned by BERT model at index 0 is the last hidden state, 1 means pooler_output\n",
    "We need only the hidden state, so that we can add more layers and fine-tune the model.\n",
    "We'll use functional API"
   ]
  },
  {
   "cell_type": "code",
   "execution_count": 42,
   "id": "8f26009e",
   "metadata": {},
   "outputs": [],
   "source": [
    "max_len = 100\n",
    "\n",
    "\n",
    "input_ids = Input(shape=(max_len,), dtype=tf.int32, name='input_ids')\n",
    "input_mask = Input(shape=(max_len,), dtype=tf.int32, name='attention_mask')\n",
    "\n",
    "# 0 is the last hidden state, 1 means pooler_output\n",
    "# We need only the hidden state, so that we can add more layers and fine-tune the model.\n",
    "# We'll use functional API\n",
    "embeddings = bert(input_ids, attention_mask=input_mask)[0]\n",
    "out = tf.keras.layers.GlobalMaxPool1D()(embeddings)\n",
    "out = Dense(128, activation='relu')(out)\n",
    "out = tf.keras.layers.Dropout(0.1)(out)\n",
    "out = Dense(32, activation='relu')(out)\n",
    "\n",
    "y = Dense(6, activation='sigmoid')(out)\n",
    "\n",
    "model = tf.keras.Model(inputs=[input_ids, input_mask], outputs=y)\n",
    "model.layers[2].trainable = True"
   ]
  },
  {
   "cell_type": "markdown",
   "id": "ef9eb14e",
   "metadata": {},
   "source": [
    "### Compile the model."
   ]
  },
  {
   "cell_type": "code",
   "execution_count": 43,
   "id": "3cf41595",
   "metadata": {},
   "outputs": [
    {
     "name": "stdout",
     "output_type": "stream",
     "text": [
      "Model: \"model\"\n",
      "__________________________________________________________________________________________________\n",
      " Layer (type)                   Output Shape         Param #     Connected to                     \n",
      "==================================================================================================\n",
      " input_ids (InputLayer)         [(None, 100)]        0           []                               \n",
      "                                                                                                  \n",
      " attention_mask (InputLayer)    [(None, 100)]        0           []                               \n",
      "                                                                                                  \n",
      " tf_bert_model (TFBertModel)    TFBaseModelOutputWi  108310272   ['input_ids[0][0]',              \n",
      "                                thPoolingAndCrossAt               'attention_mask[0][0]']         \n",
      "                                tentions(last_hidde                                               \n",
      "                                n_state=(None, 100,                                               \n",
      "                                 768),                                                            \n",
      "                                 pooler_output=(Non                                               \n",
      "                                e, 768),                                                          \n",
      "                                 past_key_values=No                                               \n",
      "                                ne, hidden_states=N                                               \n",
      "                                one, attentions=Non                                               \n",
      "                                e, cross_attentions                                               \n",
      "                                =None)                                                            \n",
      "                                                                                                  \n",
      " global_max_pooling1d (GlobalMa  (None, 768)         0           ['tf_bert_model[0][0]']          \n",
      " xPooling1D)                                                                                      \n",
      "                                                                                                  \n",
      " dense (Dense)                  (None, 128)          98432       ['global_max_pooling1d[0][0]']   \n",
      "                                                                                                  \n",
      " dropout_37 (Dropout)           (None, 128)          0           ['dense[0][0]']                  \n",
      "                                                                                                  \n",
      " dense_1 (Dense)                (None, 32)           4128        ['dropout_37[0][0]']             \n",
      "                                                                                                  \n",
      " dense_2 (Dense)                (None, 6)            198         ['dense_1[0][0]']                \n",
      "                                                                                                  \n",
      "==================================================================================================\n",
      "Total params: 108,413,030\n",
      "Trainable params: 108,413,030\n",
      "Non-trainable params: 0\n",
      "__________________________________________________________________________________________________\n"
     ]
    }
   ],
   "source": [
    "# Bert model requires a specific learning rate as stated in the huggingface website\n",
    "\n",
    "optimizer = Adam(\n",
    "    learning_rate=5e-05,\n",
    "    epsilon=1e-08,\n",
    "    decay=0.01,\n",
    "    clipnorm=1.0\n",
    ")\n",
    "\n",
    "loss = CategoricalCrossentropy(from_logits=True)\n",
    "metric = CategoricalAccuracy('balanced_accuracy')\n",
    "\n",
    "model.compile(\n",
    "    optimizer=optimizer,\n",
    "    loss=loss,\n",
    "    metrics=metric)\n",
    "\n",
    "model.summary()"
   ]
  },
  {
   "cell_type": "code",
   "execution_count": 45,
   "id": "d09e5794",
   "metadata": {},
   "outputs": [
    {
     "name": "stderr",
     "output_type": "stream",
     "text": [
      "C:\\Users\\Surface\\anaconda3\\lib\\site-packages\\tensorflow\\python\\util\\dispatch.py:1082: UserWarning: \"`categorical_crossentropy` received `from_logits=True`, but the `output` argument was produced by a sigmoid or softmax activation and thus does not represent logits. Was this intended?\"\n",
      "  return dispatch_target(*args, **kwargs)\n"
     ]
    },
    {
     "name": "stdout",
     "output_type": "stream",
     "text": [
      "WARNING:tensorflow:Gradients do not exist for variables ['tf_bert_model/bert/pooler/dense/kernel:0', 'tf_bert_model/bert/pooler/dense/bias:0'] when minimizing the loss. If you're using `model.compile()`, did you forget to provide a `loss`argument?\n",
      "WARNING:tensorflow:Gradients do not exist for variables ['tf_bert_model/bert/pooler/dense/kernel:0', 'tf_bert_model/bert/pooler/dense/bias:0'] when minimizing the loss. If you're using `model.compile()`, did you forget to provide a `loss`argument?\n",
      "334/334 [==============================] - 17664s 53s/step - loss: 0.6130 - balanced_accuracy: 0.7538 - val_loss: 0.3926 - val_balanced_accuracy: 0.8360\n"
     ]
    }
   ],
   "source": [
    "bert_train = model.fit(\n",
    "    x={'input_ids':x_train['input_ids'], 'attention_mask':x_train['attention_mask']},\n",
    "    y=to_categorical(data_train.cyberbullying_type),\n",
    "    validation_data=(\n",
    "        {'input_ids':x_test['input_ids'], 'attention_mask':x_test['attention_mask']},to_categorical(data_test.cyberbullying_type)\n",
    "    ),\n",
    "    epochs=1,\n",
    "    batch_size=36\n",
    ")"
   ]
  },
  {
   "cell_type": "markdown",
   "id": "d96b886a",
   "metadata": {},
   "source": [
    "### We achieved balanced accuracy of 75% and validation balanced accuracy of 83.6%."
   ]
  },
  {
   "cell_type": "markdown",
   "id": "aa7f4d6e",
   "metadata": {},
   "source": [
    "We trained the data in one epoch, so this accuracy is quite ok."
   ]
  },
  {
   "cell_type": "markdown",
   "id": "b93228c7",
   "metadata": {},
   "source": [
    "#### Tokenize test data."
   ]
  },
  {
   "cell_type": "code",
   "execution_count": 44,
   "id": "440880bd",
   "metadata": {},
   "outputs": [],
   "source": [
    "x_test = tokenizer(\n",
    "    text = data_test['tweet_text'].tolist(), \n",
    "    add_special_tokens = True,\n",
    "    max_length = 100,\n",
    "    truncation = True,\n",
    "    padding = True,\n",
    "    return_tensors = 'tf',\n",
    "    return_token_type_ids = False,\n",
    "    return_attention_mask = True,\n",
    "    verbose = True\n",
    ")\n"
   ]
  },
  {
   "cell_type": "code",
   "execution_count": 46,
   "id": "e04517f1",
   "metadata": {},
   "outputs": [],
   "source": [
    "# To use bert model later, we need to save both the weights and the model architecture and load them both. \n",
    "# We already saved the model architechture above when we downloaded the model.\n",
    "\n",
    "\n",
    "model.save_weights('model_cyber.h5')\n",
    "\n",
    "# To use the mode again, load it into memory\n",
    "# model.load_weights('model_cyber.h5')"
   ]
  },
  {
   "cell_type": "code",
   "execution_count": 47,
   "id": "8ad8fa6e",
   "metadata": {},
   "outputs": [
    {
     "name": "stdout",
     "output_type": "stream",
     "text": [
      "16/16 [==============================] - 180s 10s/step\n"
     ]
    }
   ],
   "source": [
    "pred_raw = model.predict({'input_ids':x_test['input_ids'], 'attention_mask':x_test['attention_mask']})"
   ]
  },
  {
   "cell_type": "markdown",
   "id": "507e0b7c",
   "metadata": {},
   "source": [
    "We want to check the prediction of the first input in the test set. Bert gives the probability of each class. We'll use np.argmax to get the index oc the highest probability."
   ]
  },
  {
   "cell_type": "code",
   "execution_count": 48,
   "id": "2f2cd4e6",
   "metadata": {
    "scrolled": true
   },
   "outputs": [
    {
     "data": {
      "text/plain": [
       "array([0.99881345, 0.14684954, 0.49971724, 0.72339106, 0.4689358 ,\n",
       "       0.3500493 ], dtype=float32)"
      ]
     },
     "execution_count": 48,
     "metadata": {},
     "output_type": "execute_result"
    }
   ],
   "source": [
    "pred_raw[0]"
   ]
  },
  {
   "cell_type": "code",
   "execution_count": 49,
   "id": "80e8d24e",
   "metadata": {},
   "outputs": [],
   "source": [
    "y_pred = np.argmax(pred_raw, axis=1)"
   ]
  },
  {
   "cell_type": "code",
   "execution_count": 50,
   "id": "884bd686",
   "metadata": {},
   "outputs": [
    {
     "data": {
      "text/plain": [
       "31785    0\n",
       "30876    4\n",
       "17444    5\n",
       "9823     2\n",
       "45433    1\n",
       "        ..\n",
       "27093    4\n",
       "14133    2\n",
       "36007    0\n",
       "26678    4\n",
       "27029    4\n",
       "Name: cyberbullying_type, Length: 500, dtype: int32"
      ]
     },
     "execution_count": 50,
     "metadata": {},
     "output_type": "execute_result"
    }
   ],
   "source": [
    "data_test.cyberbullying_type "
   ]
  },
  {
   "cell_type": "markdown",
   "id": "fbe40947",
   "metadata": {},
   "source": [
    "#### Checking the classification report.\n",
    "\n",
    "These values in the classification report look good."
   ]
  },
  {
   "cell_type": "code",
   "execution_count": 52,
   "id": "c0b317c5",
   "metadata": {
    "scrolled": true
   },
   "outputs": [
    {
     "name": "stdout",
     "output_type": "stream",
     "text": [
      "              precision    recall  f1-score   support\n",
      "\n",
      "           0       1.00      0.97      0.98        88\n",
      "           1       0.98      0.96      0.97        85\n",
      "           2       0.89      0.85      0.87        78\n",
      "           3       0.65      0.45      0.53        74\n",
      "           4       0.62      0.78      0.69        98\n",
      "           5       0.90      0.99      0.94        77\n",
      "\n",
      "    accuracy                           0.84       500\n",
      "   macro avg       0.84      0.83      0.83       500\n",
      "weighted avg       0.84      0.84      0.83       500\n",
      "\n"
     ]
    }
   ],
   "source": [
    "print(classification_report(data_test.cyberbullying_type, y_pred))"
   ]
  }
 ],
 "metadata": {
  "kernelspec": {
   "display_name": "Python 3",
   "language": "python",
   "name": "python3"
  },
  "language_info": {
   "codemirror_mode": {
    "name": "ipython",
    "version": 3
   },
   "file_extension": ".py",
   "mimetype": "text/x-python",
   "name": "python",
   "nbconvert_exporter": "python",
   "pygments_lexer": "ipython3",
   "version": "3.8.8"
  }
 },
 "nbformat": 4,
 "nbformat_minor": 5
}
